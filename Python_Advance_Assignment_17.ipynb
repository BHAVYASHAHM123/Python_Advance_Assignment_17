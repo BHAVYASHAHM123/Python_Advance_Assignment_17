{
  "cells": [
    {
      "cell_type": "markdown",
      "id": "e84c7f48",
      "metadata": {
        "id": "e84c7f48"
      },
      "source": [
        "Q1). Explain the difference between greedy and non-greedy syntax with visual terms in as few words as possible. What is the bare minimum effort required to transform a greedy pattern into a non-greedy one? What characters or characters can you introduce or change?"
      ]
    },
    {
      "cell_type": "code",
      "execution_count": 9,
      "id": "be0e9a3a",
      "metadata": {
        "colab": {
          "base_uri": "https://localhost:8080/",
          "height": 53
        },
        "id": "be0e9a3a",
        "outputId": "07e819a8-a0d4-4b5c-ceb6-b9a3e6c38bf3"
      },
      "outputs": [
        {
          "output_type": "stream",
          "name": "stdout",
          "text": [
            "<AI is the latest addition to the tech items> <AI is very advanced> <Using AI we can create a viretual world machine>\n"
          ]
        },
        {
          "output_type": "execute_result",
          "data": {
            "text/plain": [
              "'<AI is the latest addition to the tech items>'"
            ],
            "application/vnd.google.colaboratory.intrinsic+json": {
              "type": "string"
            }
          },
          "metadata": {},
          "execution_count": 9
        }
      ],
      "source": [
        "import re\n",
        "text = \"<AI is the latest addition to the tech items> <AI is very advanced> <Using AI we can create a viretual world machine>\"\n",
        "greedyregobj=re.compile(r'<.*>')\n",
        "match=greedyregobj.search(text)\n",
        "print(match.group())\n",
        "nongreedyregobj=re.compile(r'<AI.*?>')\n",
        "match1=nongreedyregobj.search(text)\n",
        "match1.group()"
      ]
    },
    {
      "cell_type": "markdown",
      "id": "322d5cea",
      "metadata": {
        "id": "322d5cea"
      },
      "source": [
        "Q2). When exactly does greedy versus non-greedy make a difference?  What if youre looking for a non-greedy match but the only one available is greedy?\n",
        "\n",
        "Ans)  Ans : In the non-greedy version of the regex, Python matches the shortest possible string. In the greedy version, \n",
        "       Python matches the longest possible string. If only non greedy match is available, we can use other filtering \n",
        "       or pattern matching methods of regex and further identify the required pattern."
      ]
    },
    {
      "cell_type": "markdown",
      "id": "991f98a5",
      "metadata": {
        "id": "991f98a5"
      },
      "source": [
        "Q3). In a simple match of a string, which looks only for one match and does not do any replacement, is the use of a nontagged group likely to make any practical difference?"
      ]
    },
    {
      "cell_type": "code",
      "execution_count": 12,
      "id": "9461bf6d",
      "metadata": {
        "colab": {
          "base_uri": "https://localhost:8080/"
        },
        "id": "9461bf6d",
        "outputId": "d580a379-6c97-41ba-ee86-0a806ca449b6"
      },
      "outputs": [
        {
          "output_type": "stream",
          "name": "stdout",
          "text": [
            "Phone number found: 123\n",
            "Phone number found: 123\n"
          ]
        }
      ],
      "source": [
        "\n",
        "import re\n",
        "phoneNumRegex = re.compile(r'\\d\\d\\d')\n",
        "mo = phoneNumRegex.search('My number is 123-456-789.')\n",
        "print('Phone number found: ' + mo.group()) \n",
        "print('Phone number found: ' + mo.group(0))"
      ]
    },
    {
      "cell_type": "markdown",
      "id": "54bcfc83",
      "metadata": {
        "id": "54bcfc83"
      },
      "source": [
        "Q4). Describe a scenario in which using a nontagged category would have a significant impact on the program&#39;s outcomes."
      ]
    },
    {
      "cell_type": "code",
      "execution_count": 13,
      "id": "803bdb47",
      "metadata": {
        "colab": {
          "base_uri": "https://localhost:8080/"
        },
        "id": "803bdb47",
        "outputId": "4796a184-f1ba-4a61-e53d-b25960e7b567"
      },
      "outputs": [
        {
          "output_type": "execute_result",
          "data": {
            "text/plain": [
              "('135', '135')"
            ]
          },
          "metadata": {},
          "execution_count": 13
        }
      ],
      "source": [
        "import re\n",
        "text='135.135'\n",
        "pattern=r'(\\d+)(?:.)(\\d+)'\n",
        "regobj=re.compile(pattern)\n",
        "matobj=regobj.search(text)\n",
        "matobj.groups()\n"
      ]
    },
    {
      "cell_type": "markdown",
      "id": "d1676d99",
      "metadata": {
        "id": "d1676d99"
      },
      "source": [
        "Q5). Unlike a normal regex pattern, a look-ahead condition does not consume the characters it examines. Describe a situation in which this could make a difference in the results of your programme.\n",
        "\n",
        "Ans)Ans : While counting the number of multiple lines or mulytiple sentence in a string the positive look ahead makes a difference, without which we wont get the correct count of lines or sentences in a string."
      ]
    },
    {
      "cell_type": "markdown",
      "id": "99f99357",
      "metadata": {
        "id": "99f99357"
      },
      "source": [
        "Q6). In standard expressions, what is the difference between positive look-ahead and negative look-ahead?\n",
        "\n",
        "Ans) Ans : Positive look ahead is an assertion continuing the search and extending the string e.g.pattern= r'abc(?=[A-Z])''. Here after 'abc', ? is extending the search and says that in the remaining string, first identify the next charater should be capitalized character between A and Z, but doesnt consume it.\n",
        "      "
      ]
    },
    {
      "cell_type": "code",
      "execution_count": 14,
      "id": "e2884f83",
      "metadata": {
        "colab": {
          "base_uri": "https://localhost:8080/"
        },
        "id": "e2884f83",
        "outputId": "bc8e1c5c-fe8f-4c8e-d038-7fbe32127e6e"
      },
      "outputs": [
        {
          "output_type": "stream",
          "name": "stdout",
          "text": [
            "Positive lookahead: ['abc']\n",
            "Negative look ahead: ['abc']\n"
          ]
        }
      ],
      "source": [
        "import re\n",
        "pat=r'abc(?=[A-Z])'\n",
        "text=\"abcABCEF\"\n",
        "regobj=re.compile(pat)\n",
        "matobj=regobj.findall(text)\n",
        "print(\"Positive lookahead:\",matobj)\n",
        "\n",
        "import re\n",
        "pat1=r'abc(?!abc)'\n",
        "text1=\"aeiouabcabc\"\n",
        "regobj1=re.compile(pat1)\n",
        "matobj1=regobj1.findall(text)\n",
        "print(\"Negative look ahead:\",matobj1) "
      ]
    },
    {
      "cell_type": "markdown",
      "id": "47fccf29",
      "metadata": {
        "id": "47fccf29"
      },
      "source": [
        "Q7). What is the benefit of referring to groups by name rather than by number in a standard expression?\n",
        "\n",
        "Ans)  Ans : The benifit of referring to the groups by name is that\n",
        "The code is clear. It is easier to maimtain the code."
      ]
    },
    {
      "cell_type": "markdown",
      "id": "51608690",
      "metadata": {
        "id": "51608690"
      },
      "source": [
        "Q8). Can you identify repeated items within a target string using named groups, as in 'The cow jumped over the moon'?"
      ]
    },
    {
      "cell_type": "code",
      "execution_count": 15,
      "id": "528ed900",
      "metadata": {
        "colab": {
          "base_uri": "https://localhost:8080/"
        },
        "id": "528ed900",
        "outputId": "bf461d51-32fa-41c7-f5ee-cebc565e725e"
      },
      "outputs": [
        {
          "output_type": "execute_result",
          "data": {
            "text/plain": [
              "['The', 'the']"
            ]
          },
          "metadata": {},
          "execution_count": 15
        }
      ],
      "source": [
        " \n",
        "import re\n",
        "text = \"The cow jumped over the moon\"\n",
        "regobj=re.compile(r'(?P<w1>The)',re.I)\n",
        "regobj.findall(text)"
      ]
    },
    {
      "cell_type": "markdown",
      "id": "ed4b3184",
      "metadata": {
        "id": "ed4b3184"
      },
      "source": [
        "Q9). When parsing a string, what is at least one thing that the Scanner interface does for you that the re.findall feature does not?\n",
        "\n",
        "Ans) Ans : re.search() method either returns None (if the pattern doesn’t match), or a re.MatchObject that contains\n",
        "       information about the matching part of the string. This method stops after the first match, so this is best\n",
        "       suited for testing a regular expression more than extracting data,whereas\n",
        "       Return all non-overlapping matches of pattern in string, as a list of strings. The string is scanned \n",
        "       left to right, and matches are returned in the order found."
      ]
    },
    {
      "cell_type": "markdown",
      "id": "a9645f0d",
      "metadata": {
        "id": "a9645f0d"
      },
      "source": [
        "Q10). Does a scanner object have to be named scanner?\n",
        "\n",
        "Ans)Ans : The scanner object need not be named scanner. It may have any name."
      ]
    }
  ],
  "metadata": {
    "kernelspec": {
      "display_name": "Python 3",
      "language": "python",
      "name": "python3"
    },
    "language_info": {
      "codemirror_mode": {
        "name": "ipython",
        "version": 3
      },
      "file_extension": ".py",
      "mimetype": "text/x-python",
      "name": "python",
      "nbconvert_exporter": "python",
      "pygments_lexer": "ipython3",
      "version": "3.8.8"
    },
    "colab": {
      "name": "Python_Advance_Assignment_17.ipynb",
      "provenance": []
    }
  },
  "nbformat": 4,
  "nbformat_minor": 5
}